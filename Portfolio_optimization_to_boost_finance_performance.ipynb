{
  "nbformat": 4,
  "nbformat_minor": 0,
  "metadata": {
    "colab": {
      "provenance": [],
      "authorship_tag": "ABX9TyNREillalGzdtR0EdivXKdt",
      "include_colab_link": true
    },
    "kernelspec": {
      "name": "python3",
      "display_name": "Python 3"
    },
    "language_info": {
      "name": "python"
    }
  },
  "cells": [
    {
      "cell_type": "markdown",
      "metadata": {
        "id": "view-in-github",
        "colab_type": "text"
      },
      "source": [
        "<a href=\"https://colab.research.google.com/github/anuragprasad95/Portfolio_optimization/blob/main/Portfolio_optimization_to_boost_finance_performance.ipynb\" target=\"_parent\"><img src=\"https://colab.research.google.com/assets/colab-badge.svg\" alt=\"Open In Colab\"/></a>"
      ]
    },
    {
      "cell_type": "markdown",
      "source": [
        "Aim: Assume we have a portfolio full of risky assets. To find optimal portfolio which gives highest return with lowest risk.\n",
        "\n",
        "Methodology: Sharpe Ratio = (Portfolio Return - Risk Free Rate)/Standard Deviation"
      ],
      "metadata": {
        "id": "s6cHRh6qMArm"
      }
    },
    {
      "cell_type": "code",
      "execution_count": 93,
      "metadata": {
        "id": "7pdifiJbLakp"
      },
      "outputs": [],
      "source": [
        "import numpy as np\n",
        "import pandas as pd\n",
        "import yfinance as yf\n",
        "from scipy.optimize import minimize\n",
        "from datetime import datetime, timedelta"
      ]
    },
    {
      "cell_type": "markdown",
      "source": [
        "#1. Define Tickers and Time Range"
      ],
      "metadata": {
        "id": "CDshrRhoM4fD"
      }
    },
    {
      "cell_type": "markdown",
      "source": [
        "Define the list of tickers"
      ],
      "metadata": {
        "id": "4RlenE2vM-pn"
      }
    },
    {
      "cell_type": "code",
      "source": [
        "tickers = ['HDFCBANK.NS','SBIN.NS','FEDERALBNK.NS','ICICIBANK.NS','AXISBANK.NS']"
      ],
      "metadata": {
        "id": "Cgw4SpTqNF1v"
      },
      "execution_count": 94,
      "outputs": []
    },
    {
      "cell_type": "markdown",
      "source": [
        "Set the end date to today"
      ],
      "metadata": {
        "id": "cCXxD531NBJ-"
      }
    },
    {
      "cell_type": "code",
      "source": [
        "end_date = datetime.today()"
      ],
      "metadata": {
        "id": "m7ADGqL3NGVo"
      },
      "execution_count": 95,
      "outputs": []
    },
    {
      "cell_type": "markdown",
      "source": [
        "Set the start date to 5 years ago"
      ],
      "metadata": {
        "id": "ResME39BNDJ1"
      }
    },
    {
      "cell_type": "code",
      "source": [
        "start_date = end_date - timedelta(days = 5 * 365)\n",
        "print(start_date)"
      ],
      "metadata": {
        "colab": {
          "base_uri": "https://localhost:8080/"
        },
        "id": "170XdA6fNGs8",
        "outputId": "213af4e9-5214-4e12-82bc-d7fc956cc78a"
      },
      "execution_count": 96,
      "outputs": [
        {
          "output_type": "stream",
          "name": "stdout",
          "text": [
            "2019-05-04 18:21:41.590221\n"
          ]
        }
      ]
    },
    {
      "cell_type": "markdown",
      "source": [
        "#2. Download Adjusted Close Prices"
      ],
      "metadata": {
        "id": "-M3mfhgQNFXO"
      }
    },
    {
      "cell_type": "markdown",
      "source": [
        "Create an empty DataFrame to store the adjusted close prices"
      ],
      "metadata": {
        "id": "b8hPoGy7OC35"
      }
    },
    {
      "cell_type": "code",
      "source": [
        "adj_close_df = pd.DataFrame()"
      ],
      "metadata": {
        "id": "otd11yrpOKeF"
      },
      "execution_count": 97,
      "outputs": []
    },
    {
      "cell_type": "markdown",
      "source": [
        "Download the close prices for each ticker"
      ],
      "metadata": {
        "id": "FhCdlLiqOGvk"
      }
    },
    {
      "cell_type": "code",
      "source": [
        "for ticker in tickers:\n",
        "  data = yf.download(ticker, start = start_date, end = end_date)\n",
        "  adj_close_df[ticker] = data['Adj Close']"
      ],
      "metadata": {
        "colab": {
          "base_uri": "https://localhost:8080/"
        },
        "id": "stOh602EOK2i",
        "outputId": "9df84095-d512-4b4b-a60a-bdfc55fdb7b6"
      },
      "execution_count": 98,
      "outputs": [
        {
          "output_type": "stream",
          "name": "stderr",
          "text": [
            "[*********************100%%**********************]  1 of 1 completed\n",
            "[*********************100%%**********************]  1 of 1 completed\n",
            "[*********************100%%**********************]  1 of 1 completed\n",
            "[*********************100%%**********************]  1 of 1 completed\n",
            "[*********************100%%**********************]  1 of 1 completed\n"
          ]
        }
      ]
    },
    {
      "cell_type": "markdown",
      "source": [
        "Display the DataFrame"
      ],
      "metadata": {
        "id": "_YxFdZljOI63"
      }
    },
    {
      "cell_type": "code",
      "source": [
        "print(adj_close_df)"
      ],
      "metadata": {
        "colab": {
          "base_uri": "https://localhost:8080/"
        },
        "id": "4ePN_4jZOLOz",
        "outputId": "0ddb3be3-3f6b-42e0-eac5-bbf609628eca"
      },
      "execution_count": 99,
      "outputs": [
        {
          "output_type": "stream",
          "name": "stdout",
          "text": [
            "            HDFCBANK.NS     SBIN.NS  FEDERALBNK.NS  ICICIBANK.NS  AXISBANK.NS\n",
            "Date                                                                         \n",
            "2019-05-06  1123.394897  295.482605      95.568665    393.532898   744.628479\n",
            "2019-05-07  1120.451782  292.324463      94.232040    379.019348   739.049561\n",
            "2019-05-08  1113.166626  285.433807      94.136574    374.802582   732.723511\n",
            "2019-05-09  1105.278198  286.438660      92.847679    374.018036   728.240540\n",
            "2019-05-10  1107.980103  294.812683      92.609001    377.646423   732.275208\n",
            "...                 ...         ...            ...           ...          ...\n",
            "2024-04-25  1510.750000  812.700012     155.949997   1113.750000  1127.000000\n",
            "2024-04-26  1509.800049  801.299988     157.100006   1107.900024  1130.300049\n",
            "2024-04-29  1529.500000  826.500000     160.449997   1160.150024  1159.250000\n",
            "2024-04-30  1520.099976  826.250000     162.600006   1150.400024  1165.900024\n",
            "2024-05-02  1532.250000  830.049988     168.000000   1139.449951  1149.849976\n",
            "\n",
            "[1235 rows x 5 columns]\n"
          ]
        }
      ]
    },
    {
      "cell_type": "markdown",
      "source": [
        "#3. Calculate Lognormal Returns"
      ],
      "metadata": {
        "id": "9RQ1hRCFPNjP"
      }
    },
    {
      "cell_type": "markdown",
      "source": [
        "Calculate the lognormal returns for each ticker"
      ],
      "metadata": {
        "id": "T7_5QelOPQUj"
      }
    },
    {
      "cell_type": "code",
      "source": [
        "log_returns = np.log(adj_close_df / adj_close_df.shift(1))\n",
        "log_returns"
      ],
      "metadata": {
        "colab": {
          "base_uri": "https://localhost:8080/",
          "height": 455
        },
        "id": "JhRwucitPSvQ",
        "outputId": "c8f37058-0cec-4fa9-fe39-f6fc34703191"
      },
      "execution_count": 100,
      "outputs": [
        {
          "output_type": "execute_result",
          "data": {
            "text/plain": [
              "            HDFCBANK.NS   SBIN.NS  FEDERALBNK.NS  ICICIBANK.NS  AXISBANK.NS\n",
              "Date                                                                       \n",
              "2019-05-06          NaN       NaN            NaN           NaN          NaN\n",
              "2019-05-07    -0.002623 -0.010746      -0.014085     -0.037577    -0.007520\n",
              "2019-05-08    -0.006523 -0.023854      -0.001014     -0.011188    -0.008597\n",
              "2019-05-09    -0.007112  0.003514      -0.013786     -0.002095    -0.006137\n",
              "2019-05-10     0.002442  0.028816      -0.002574      0.009654     0.005525\n",
              "...                 ...       ...            ...           ...          ...\n",
              "2024-04-25    -0.000629  0.049954       0.015184      0.015381     0.058229\n",
              "2024-04-26    -0.000629 -0.014127       0.007347     -0.005266     0.002924\n",
              "2024-04-29     0.012964  0.030965       0.021100      0.046083     0.025290\n",
              "2024-04-30    -0.006165 -0.000303       0.013311     -0.008440     0.005720\n",
              "2024-05-02     0.007961  0.004589       0.032671     -0.009564    -0.013862\n",
              "\n",
              "[1235 rows x 5 columns]"
            ],
            "text/html": [
              "\n",
              "  <div id=\"df-1614302d-bde7-473a-ac99-78c5376cfe97\" class=\"colab-df-container\">\n",
              "    <div>\n",
              "<style scoped>\n",
              "    .dataframe tbody tr th:only-of-type {\n",
              "        vertical-align: middle;\n",
              "    }\n",
              "\n",
              "    .dataframe tbody tr th {\n",
              "        vertical-align: top;\n",
              "    }\n",
              "\n",
              "    .dataframe thead th {\n",
              "        text-align: right;\n",
              "    }\n",
              "</style>\n",
              "<table border=\"1\" class=\"dataframe\">\n",
              "  <thead>\n",
              "    <tr style=\"text-align: right;\">\n",
              "      <th></th>\n",
              "      <th>HDFCBANK.NS</th>\n",
              "      <th>SBIN.NS</th>\n",
              "      <th>FEDERALBNK.NS</th>\n",
              "      <th>ICICIBANK.NS</th>\n",
              "      <th>AXISBANK.NS</th>\n",
              "    </tr>\n",
              "    <tr>\n",
              "      <th>Date</th>\n",
              "      <th></th>\n",
              "      <th></th>\n",
              "      <th></th>\n",
              "      <th></th>\n",
              "      <th></th>\n",
              "    </tr>\n",
              "  </thead>\n",
              "  <tbody>\n",
              "    <tr>\n",
              "      <th>2019-05-06</th>\n",
              "      <td>NaN</td>\n",
              "      <td>NaN</td>\n",
              "      <td>NaN</td>\n",
              "      <td>NaN</td>\n",
              "      <td>NaN</td>\n",
              "    </tr>\n",
              "    <tr>\n",
              "      <th>2019-05-07</th>\n",
              "      <td>-0.002623</td>\n",
              "      <td>-0.010746</td>\n",
              "      <td>-0.014085</td>\n",
              "      <td>-0.037577</td>\n",
              "      <td>-0.007520</td>\n",
              "    </tr>\n",
              "    <tr>\n",
              "      <th>2019-05-08</th>\n",
              "      <td>-0.006523</td>\n",
              "      <td>-0.023854</td>\n",
              "      <td>-0.001014</td>\n",
              "      <td>-0.011188</td>\n",
              "      <td>-0.008597</td>\n",
              "    </tr>\n",
              "    <tr>\n",
              "      <th>2019-05-09</th>\n",
              "      <td>-0.007112</td>\n",
              "      <td>0.003514</td>\n",
              "      <td>-0.013786</td>\n",
              "      <td>-0.002095</td>\n",
              "      <td>-0.006137</td>\n",
              "    </tr>\n",
              "    <tr>\n",
              "      <th>2019-05-10</th>\n",
              "      <td>0.002442</td>\n",
              "      <td>0.028816</td>\n",
              "      <td>-0.002574</td>\n",
              "      <td>0.009654</td>\n",
              "      <td>0.005525</td>\n",
              "    </tr>\n",
              "    <tr>\n",
              "      <th>...</th>\n",
              "      <td>...</td>\n",
              "      <td>...</td>\n",
              "      <td>...</td>\n",
              "      <td>...</td>\n",
              "      <td>...</td>\n",
              "    </tr>\n",
              "    <tr>\n",
              "      <th>2024-04-25</th>\n",
              "      <td>-0.000629</td>\n",
              "      <td>0.049954</td>\n",
              "      <td>0.015184</td>\n",
              "      <td>0.015381</td>\n",
              "      <td>0.058229</td>\n",
              "    </tr>\n",
              "    <tr>\n",
              "      <th>2024-04-26</th>\n",
              "      <td>-0.000629</td>\n",
              "      <td>-0.014127</td>\n",
              "      <td>0.007347</td>\n",
              "      <td>-0.005266</td>\n",
              "      <td>0.002924</td>\n",
              "    </tr>\n",
              "    <tr>\n",
              "      <th>2024-04-29</th>\n",
              "      <td>0.012964</td>\n",
              "      <td>0.030965</td>\n",
              "      <td>0.021100</td>\n",
              "      <td>0.046083</td>\n",
              "      <td>0.025290</td>\n",
              "    </tr>\n",
              "    <tr>\n",
              "      <th>2024-04-30</th>\n",
              "      <td>-0.006165</td>\n",
              "      <td>-0.000303</td>\n",
              "      <td>0.013311</td>\n",
              "      <td>-0.008440</td>\n",
              "      <td>0.005720</td>\n",
              "    </tr>\n",
              "    <tr>\n",
              "      <th>2024-05-02</th>\n",
              "      <td>0.007961</td>\n",
              "      <td>0.004589</td>\n",
              "      <td>0.032671</td>\n",
              "      <td>-0.009564</td>\n",
              "      <td>-0.013862</td>\n",
              "    </tr>\n",
              "  </tbody>\n",
              "</table>\n",
              "<p>1235 rows × 5 columns</p>\n",
              "</div>\n",
              "    <div class=\"colab-df-buttons\">\n",
              "\n",
              "  <div class=\"colab-df-container\">\n",
              "    <button class=\"colab-df-convert\" onclick=\"convertToInteractive('df-1614302d-bde7-473a-ac99-78c5376cfe97')\"\n",
              "            title=\"Convert this dataframe to an interactive table.\"\n",
              "            style=\"display:none;\">\n",
              "\n",
              "  <svg xmlns=\"http://www.w3.org/2000/svg\" height=\"24px\" viewBox=\"0 -960 960 960\">\n",
              "    <path d=\"M120-120v-720h720v720H120Zm60-500h600v-160H180v160Zm220 220h160v-160H400v160Zm0 220h160v-160H400v160ZM180-400h160v-160H180v160Zm440 0h160v-160H620v160ZM180-180h160v-160H180v160Zm440 0h160v-160H620v160Z\"/>\n",
              "  </svg>\n",
              "    </button>\n",
              "\n",
              "  <style>\n",
              "    .colab-df-container {\n",
              "      display:flex;\n",
              "      gap: 12px;\n",
              "    }\n",
              "\n",
              "    .colab-df-convert {\n",
              "      background-color: #E8F0FE;\n",
              "      border: none;\n",
              "      border-radius: 50%;\n",
              "      cursor: pointer;\n",
              "      display: none;\n",
              "      fill: #1967D2;\n",
              "      height: 32px;\n",
              "      padding: 0 0 0 0;\n",
              "      width: 32px;\n",
              "    }\n",
              "\n",
              "    .colab-df-convert:hover {\n",
              "      background-color: #E2EBFA;\n",
              "      box-shadow: 0px 1px 2px rgba(60, 64, 67, 0.3), 0px 1px 3px 1px rgba(60, 64, 67, 0.15);\n",
              "      fill: #174EA6;\n",
              "    }\n",
              "\n",
              "    .colab-df-buttons div {\n",
              "      margin-bottom: 4px;\n",
              "    }\n",
              "\n",
              "    [theme=dark] .colab-df-convert {\n",
              "      background-color: #3B4455;\n",
              "      fill: #D2E3FC;\n",
              "    }\n",
              "\n",
              "    [theme=dark] .colab-df-convert:hover {\n",
              "      background-color: #434B5C;\n",
              "      box-shadow: 0px 1px 3px 1px rgba(0, 0, 0, 0.15);\n",
              "      filter: drop-shadow(0px 1px 2px rgba(0, 0, 0, 0.3));\n",
              "      fill: #FFFFFF;\n",
              "    }\n",
              "  </style>\n",
              "\n",
              "    <script>\n",
              "      const buttonEl =\n",
              "        document.querySelector('#df-1614302d-bde7-473a-ac99-78c5376cfe97 button.colab-df-convert');\n",
              "      buttonEl.style.display =\n",
              "        google.colab.kernel.accessAllowed ? 'block' : 'none';\n",
              "\n",
              "      async function convertToInteractive(key) {\n",
              "        const element = document.querySelector('#df-1614302d-bde7-473a-ac99-78c5376cfe97');\n",
              "        const dataTable =\n",
              "          await google.colab.kernel.invokeFunction('convertToInteractive',\n",
              "                                                    [key], {});\n",
              "        if (!dataTable) return;\n",
              "\n",
              "        const docLinkHtml = 'Like what you see? Visit the ' +\n",
              "          '<a target=\"_blank\" href=https://colab.research.google.com/notebooks/data_table.ipynb>data table notebook</a>'\n",
              "          + ' to learn more about interactive tables.';\n",
              "        element.innerHTML = '';\n",
              "        dataTable['output_type'] = 'display_data';\n",
              "        await google.colab.output.renderOutput(dataTable, element);\n",
              "        const docLink = document.createElement('div');\n",
              "        docLink.innerHTML = docLinkHtml;\n",
              "        element.appendChild(docLink);\n",
              "      }\n",
              "    </script>\n",
              "  </div>\n",
              "\n",
              "\n",
              "<div id=\"df-20c251a0-61f7-4d7e-bbdd-4e10ac82d0c0\">\n",
              "  <button class=\"colab-df-quickchart\" onclick=\"quickchart('df-20c251a0-61f7-4d7e-bbdd-4e10ac82d0c0')\"\n",
              "            title=\"Suggest charts\"\n",
              "            style=\"display:none;\">\n",
              "\n",
              "<svg xmlns=\"http://www.w3.org/2000/svg\" height=\"24px\"viewBox=\"0 0 24 24\"\n",
              "     width=\"24px\">\n",
              "    <g>\n",
              "        <path d=\"M19 3H5c-1.1 0-2 .9-2 2v14c0 1.1.9 2 2 2h14c1.1 0 2-.9 2-2V5c0-1.1-.9-2-2-2zM9 17H7v-7h2v7zm4 0h-2V7h2v10zm4 0h-2v-4h2v4z\"/>\n",
              "    </g>\n",
              "</svg>\n",
              "  </button>\n",
              "\n",
              "<style>\n",
              "  .colab-df-quickchart {\n",
              "      --bg-color: #E8F0FE;\n",
              "      --fill-color: #1967D2;\n",
              "      --hover-bg-color: #E2EBFA;\n",
              "      --hover-fill-color: #174EA6;\n",
              "      --disabled-fill-color: #AAA;\n",
              "      --disabled-bg-color: #DDD;\n",
              "  }\n",
              "\n",
              "  [theme=dark] .colab-df-quickchart {\n",
              "      --bg-color: #3B4455;\n",
              "      --fill-color: #D2E3FC;\n",
              "      --hover-bg-color: #434B5C;\n",
              "      --hover-fill-color: #FFFFFF;\n",
              "      --disabled-bg-color: #3B4455;\n",
              "      --disabled-fill-color: #666;\n",
              "  }\n",
              "\n",
              "  .colab-df-quickchart {\n",
              "    background-color: var(--bg-color);\n",
              "    border: none;\n",
              "    border-radius: 50%;\n",
              "    cursor: pointer;\n",
              "    display: none;\n",
              "    fill: var(--fill-color);\n",
              "    height: 32px;\n",
              "    padding: 0;\n",
              "    width: 32px;\n",
              "  }\n",
              "\n",
              "  .colab-df-quickchart:hover {\n",
              "    background-color: var(--hover-bg-color);\n",
              "    box-shadow: 0 1px 2px rgba(60, 64, 67, 0.3), 0 1px 3px 1px rgba(60, 64, 67, 0.15);\n",
              "    fill: var(--button-hover-fill-color);\n",
              "  }\n",
              "\n",
              "  .colab-df-quickchart-complete:disabled,\n",
              "  .colab-df-quickchart-complete:disabled:hover {\n",
              "    background-color: var(--disabled-bg-color);\n",
              "    fill: var(--disabled-fill-color);\n",
              "    box-shadow: none;\n",
              "  }\n",
              "\n",
              "  .colab-df-spinner {\n",
              "    border: 2px solid var(--fill-color);\n",
              "    border-color: transparent;\n",
              "    border-bottom-color: var(--fill-color);\n",
              "    animation:\n",
              "      spin 1s steps(1) infinite;\n",
              "  }\n",
              "\n",
              "  @keyframes spin {\n",
              "    0% {\n",
              "      border-color: transparent;\n",
              "      border-bottom-color: var(--fill-color);\n",
              "      border-left-color: var(--fill-color);\n",
              "    }\n",
              "    20% {\n",
              "      border-color: transparent;\n",
              "      border-left-color: var(--fill-color);\n",
              "      border-top-color: var(--fill-color);\n",
              "    }\n",
              "    30% {\n",
              "      border-color: transparent;\n",
              "      border-left-color: var(--fill-color);\n",
              "      border-top-color: var(--fill-color);\n",
              "      border-right-color: var(--fill-color);\n",
              "    }\n",
              "    40% {\n",
              "      border-color: transparent;\n",
              "      border-right-color: var(--fill-color);\n",
              "      border-top-color: var(--fill-color);\n",
              "    }\n",
              "    60% {\n",
              "      border-color: transparent;\n",
              "      border-right-color: var(--fill-color);\n",
              "    }\n",
              "    80% {\n",
              "      border-color: transparent;\n",
              "      border-right-color: var(--fill-color);\n",
              "      border-bottom-color: var(--fill-color);\n",
              "    }\n",
              "    90% {\n",
              "      border-color: transparent;\n",
              "      border-bottom-color: var(--fill-color);\n",
              "    }\n",
              "  }\n",
              "</style>\n",
              "\n",
              "  <script>\n",
              "    async function quickchart(key) {\n",
              "      const quickchartButtonEl =\n",
              "        document.querySelector('#' + key + ' button');\n",
              "      quickchartButtonEl.disabled = true;  // To prevent multiple clicks.\n",
              "      quickchartButtonEl.classList.add('colab-df-spinner');\n",
              "      try {\n",
              "        const charts = await google.colab.kernel.invokeFunction(\n",
              "            'suggestCharts', [key], {});\n",
              "      } catch (error) {\n",
              "        console.error('Error during call to suggestCharts:', error);\n",
              "      }\n",
              "      quickchartButtonEl.classList.remove('colab-df-spinner');\n",
              "      quickchartButtonEl.classList.add('colab-df-quickchart-complete');\n",
              "    }\n",
              "    (() => {\n",
              "      let quickchartButtonEl =\n",
              "        document.querySelector('#df-20c251a0-61f7-4d7e-bbdd-4e10ac82d0c0 button');\n",
              "      quickchartButtonEl.style.display =\n",
              "        google.colab.kernel.accessAllowed ? 'block' : 'none';\n",
              "    })();\n",
              "  </script>\n",
              "</div>\n",
              "\n",
              "  <div id=\"id_efe937d1-3abb-457a-941c-edee2fea4968\">\n",
              "    <style>\n",
              "      .colab-df-generate {\n",
              "        background-color: #E8F0FE;\n",
              "        border: none;\n",
              "        border-radius: 50%;\n",
              "        cursor: pointer;\n",
              "        display: none;\n",
              "        fill: #1967D2;\n",
              "        height: 32px;\n",
              "        padding: 0 0 0 0;\n",
              "        width: 32px;\n",
              "      }\n",
              "\n",
              "      .colab-df-generate:hover {\n",
              "        background-color: #E2EBFA;\n",
              "        box-shadow: 0px 1px 2px rgba(60, 64, 67, 0.3), 0px 1px 3px 1px rgba(60, 64, 67, 0.15);\n",
              "        fill: #174EA6;\n",
              "      }\n",
              "\n",
              "      [theme=dark] .colab-df-generate {\n",
              "        background-color: #3B4455;\n",
              "        fill: #D2E3FC;\n",
              "      }\n",
              "\n",
              "      [theme=dark] .colab-df-generate:hover {\n",
              "        background-color: #434B5C;\n",
              "        box-shadow: 0px 1px 3px 1px rgba(0, 0, 0, 0.15);\n",
              "        filter: drop-shadow(0px 1px 2px rgba(0, 0, 0, 0.3));\n",
              "        fill: #FFFFFF;\n",
              "      }\n",
              "    </style>\n",
              "    <button class=\"colab-df-generate\" onclick=\"generateWithVariable('log_returns')\"\n",
              "            title=\"Generate code using this dataframe.\"\n",
              "            style=\"display:none;\">\n",
              "\n",
              "  <svg xmlns=\"http://www.w3.org/2000/svg\" height=\"24px\"viewBox=\"0 0 24 24\"\n",
              "       width=\"24px\">\n",
              "    <path d=\"M7,19H8.4L18.45,9,17,7.55,7,17.6ZM5,21V16.75L18.45,3.32a2,2,0,0,1,2.83,0l1.4,1.43a1.91,1.91,0,0,1,.58,1.4,1.91,1.91,0,0,1-.58,1.4L9.25,21ZM18.45,9,17,7.55Zm-12,3A5.31,5.31,0,0,0,4.9,8.1,5.31,5.31,0,0,0,1,6.5,5.31,5.31,0,0,0,4.9,4.9,5.31,5.31,0,0,0,6.5,1,5.31,5.31,0,0,0,8.1,4.9,5.31,5.31,0,0,0,12,6.5,5.46,5.46,0,0,0,6.5,12Z\"/>\n",
              "  </svg>\n",
              "    </button>\n",
              "    <script>\n",
              "      (() => {\n",
              "      const buttonEl =\n",
              "        document.querySelector('#id_efe937d1-3abb-457a-941c-edee2fea4968 button.colab-df-generate');\n",
              "      buttonEl.style.display =\n",
              "        google.colab.kernel.accessAllowed ? 'block' : 'none';\n",
              "\n",
              "      buttonEl.onclick = () => {\n",
              "        google.colab.notebook.generateWithVariable('log_returns');\n",
              "      }\n",
              "      })();\n",
              "    </script>\n",
              "  </div>\n",
              "\n",
              "    </div>\n",
              "  </div>\n"
            ],
            "application/vnd.google.colaboratory.intrinsic+json": {
              "type": "dataframe",
              "variable_name": "log_returns",
              "summary": "{\n  \"name\": \"log_returns\",\n  \"rows\": 1235,\n  \"fields\": [\n    {\n      \"column\": \"Date\",\n      \"properties\": {\n        \"dtype\": \"date\",\n        \"min\": \"2019-05-06 00:00:00\",\n        \"max\": \"2024-05-02 00:00:00\",\n        \"num_unique_values\": 1235,\n        \"samples\": [\n          \"2022-05-19 00:00:00\",\n          \"2021-09-08 00:00:00\",\n          \"2021-07-20 00:00:00\"\n        ],\n        \"semantic_type\": \"\",\n        \"description\": \"\"\n      }\n    },\n    {\n      \"column\": \"HDFCBANK.NS\",\n      \"properties\": {\n        \"dtype\": \"number\",\n        \"std\": 0.017227051388755972,\n        \"min\": -0.13475381038501796,\n        \"max\": 0.10974712495374093,\n        \"num_unique_values\": 1234,\n        \"samples\": [\n          0.025998286151236463,\n          -0.004960259349536965,\n          0.003838335925978076\n        ],\n        \"semantic_type\": \"\",\n        \"description\": \"\"\n      }\n    },\n    {\n      \"column\": \"SBIN.NS\",\n      \"properties\": {\n        \"dtype\": \"number\",\n        \"std\": 0.02156426622928771,\n        \"min\": -0.14458666207506682,\n        \"max\": 0.1295252497123628,\n        \"num_unique_values\": 1229,\n        \"samples\": [\n          0.0027284498124382126,\n          0.007290282405246442,\n          0.0040996707889778316\n        ],\n        \"semantic_type\": \"\",\n        \"description\": \"\"\n      }\n    },\n    {\n      \"column\": \"FEDERALBNK.NS\",\n      \"properties\": {\n        \"dtype\": \"number\",\n        \"std\": 0.02449890998199492,\n        \"min\": -0.277027014218309,\n        \"max\": 0.12752186667207646,\n        \"num_unique_values\": 1213,\n        \"samples\": [\n          -0.0025695703757051195,\n          0.0561973670243376,\n          -0.02118232863756586\n        ],\n        \"semantic_type\": \"\",\n        \"description\": \"\"\n      }\n    },\n    {\n      \"column\": \"ICICIBANK.NS\",\n      \"properties\": {\n        \"dtype\": \"number\",\n        \"std\": 0.020669605521721906,\n        \"min\": -0.19659708947822457,\n        \"max\": 0.12894215078974597,\n        \"num_unique_values\": 1234,\n        \"samples\": [\n          0.02750467349951356,\n          -0.0009713859455660707,\n          0.02165200520068696\n        ],\n        \"semantic_type\": \"\",\n        \"description\": \"\"\n      }\n    },\n    {\n      \"column\": \"AXISBANK.NS\",\n      \"properties\": {\n        \"dtype\": \"number\",\n        \"std\": 0.023653747153153215,\n        \"min\": -0.3272656655627728,\n        \"max\": 0.17798480852562723,\n        \"num_unique_values\": 1232,\n        \"samples\": [\n          0.0011906170882026753,\n          -0.015379695032413163,\n          0.02162382515646362\n        ],\n        \"semantic_type\": \"\",\n        \"description\": \"\"\n      }\n    }\n  ]\n}"
            }
          },
          "metadata": {},
          "execution_count": 100
        }
      ]
    },
    {
      "cell_type": "markdown",
      "source": [
        "Drop any missing values"
      ],
      "metadata": {
        "id": "aqdiyNXePTJR"
      }
    },
    {
      "cell_type": "code",
      "source": [
        "log_returns = log_returns.dropna()"
      ],
      "metadata": {
        "id": "pE7wQWolPUU0"
      },
      "execution_count": 101,
      "outputs": []
    },
    {
      "cell_type": "markdown",
      "source": [
        "#4. Calculate Covariance Matrix"
      ],
      "metadata": {
        "id": "VyRecj5cPUx_"
      }
    },
    {
      "cell_type": "markdown",
      "source": [
        "Calculate the covariance matrix using annualized log returns"
      ],
      "metadata": {
        "id": "3U5oh9v-P09T"
      }
    },
    {
      "cell_type": "code",
      "source": [
        "cov_matrix = log_returns.cov()*252\n",
        "cov_matrix"
      ],
      "metadata": {
        "colab": {
          "base_uri": "https://localhost:8080/",
          "height": 206
        },
        "id": "UHjGppQSP5bo",
        "outputId": "3daef650-c727-40de-883d-a44d3dfa5f61"
      },
      "execution_count": 102,
      "outputs": [
        {
          "output_type": "execute_result",
          "data": {
            "text/plain": [
              "               HDFCBANK.NS   SBIN.NS  FEDERALBNK.NS  ICICIBANK.NS  AXISBANK.NS\n",
              "HDFCBANK.NS       0.074786  0.049416       0.054565      0.057988     0.055342\n",
              "SBIN.NS           0.049416  0.117184       0.088368      0.075760     0.082127\n",
              "FEDERALBNK.NS     0.054565  0.088368       0.151250      0.081777     0.095590\n",
              "ICICIBANK.NS      0.057988  0.075760       0.081777      0.107663     0.091737\n",
              "AXISBANK.NS       0.055342  0.082127       0.095590      0.091737     0.140994"
            ],
            "text/html": [
              "\n",
              "  <div id=\"df-379f86bb-daff-408d-9fa7-2c6283c8616e\" class=\"colab-df-container\">\n",
              "    <div>\n",
              "<style scoped>\n",
              "    .dataframe tbody tr th:only-of-type {\n",
              "        vertical-align: middle;\n",
              "    }\n",
              "\n",
              "    .dataframe tbody tr th {\n",
              "        vertical-align: top;\n",
              "    }\n",
              "\n",
              "    .dataframe thead th {\n",
              "        text-align: right;\n",
              "    }\n",
              "</style>\n",
              "<table border=\"1\" class=\"dataframe\">\n",
              "  <thead>\n",
              "    <tr style=\"text-align: right;\">\n",
              "      <th></th>\n",
              "      <th>HDFCBANK.NS</th>\n",
              "      <th>SBIN.NS</th>\n",
              "      <th>FEDERALBNK.NS</th>\n",
              "      <th>ICICIBANK.NS</th>\n",
              "      <th>AXISBANK.NS</th>\n",
              "    </tr>\n",
              "  </thead>\n",
              "  <tbody>\n",
              "    <tr>\n",
              "      <th>HDFCBANK.NS</th>\n",
              "      <td>0.074786</td>\n",
              "      <td>0.049416</td>\n",
              "      <td>0.054565</td>\n",
              "      <td>0.057988</td>\n",
              "      <td>0.055342</td>\n",
              "    </tr>\n",
              "    <tr>\n",
              "      <th>SBIN.NS</th>\n",
              "      <td>0.049416</td>\n",
              "      <td>0.117184</td>\n",
              "      <td>0.088368</td>\n",
              "      <td>0.075760</td>\n",
              "      <td>0.082127</td>\n",
              "    </tr>\n",
              "    <tr>\n",
              "      <th>FEDERALBNK.NS</th>\n",
              "      <td>0.054565</td>\n",
              "      <td>0.088368</td>\n",
              "      <td>0.151250</td>\n",
              "      <td>0.081777</td>\n",
              "      <td>0.095590</td>\n",
              "    </tr>\n",
              "    <tr>\n",
              "      <th>ICICIBANK.NS</th>\n",
              "      <td>0.057988</td>\n",
              "      <td>0.075760</td>\n",
              "      <td>0.081777</td>\n",
              "      <td>0.107663</td>\n",
              "      <td>0.091737</td>\n",
              "    </tr>\n",
              "    <tr>\n",
              "      <th>AXISBANK.NS</th>\n",
              "      <td>0.055342</td>\n",
              "      <td>0.082127</td>\n",
              "      <td>0.095590</td>\n",
              "      <td>0.091737</td>\n",
              "      <td>0.140994</td>\n",
              "    </tr>\n",
              "  </tbody>\n",
              "</table>\n",
              "</div>\n",
              "    <div class=\"colab-df-buttons\">\n",
              "\n",
              "  <div class=\"colab-df-container\">\n",
              "    <button class=\"colab-df-convert\" onclick=\"convertToInteractive('df-379f86bb-daff-408d-9fa7-2c6283c8616e')\"\n",
              "            title=\"Convert this dataframe to an interactive table.\"\n",
              "            style=\"display:none;\">\n",
              "\n",
              "  <svg xmlns=\"http://www.w3.org/2000/svg\" height=\"24px\" viewBox=\"0 -960 960 960\">\n",
              "    <path d=\"M120-120v-720h720v720H120Zm60-500h600v-160H180v160Zm220 220h160v-160H400v160Zm0 220h160v-160H400v160ZM180-400h160v-160H180v160Zm440 0h160v-160H620v160ZM180-180h160v-160H180v160Zm440 0h160v-160H620v160Z\"/>\n",
              "  </svg>\n",
              "    </button>\n",
              "\n",
              "  <style>\n",
              "    .colab-df-container {\n",
              "      display:flex;\n",
              "      gap: 12px;\n",
              "    }\n",
              "\n",
              "    .colab-df-convert {\n",
              "      background-color: #E8F0FE;\n",
              "      border: none;\n",
              "      border-radius: 50%;\n",
              "      cursor: pointer;\n",
              "      display: none;\n",
              "      fill: #1967D2;\n",
              "      height: 32px;\n",
              "      padding: 0 0 0 0;\n",
              "      width: 32px;\n",
              "    }\n",
              "\n",
              "    .colab-df-convert:hover {\n",
              "      background-color: #E2EBFA;\n",
              "      box-shadow: 0px 1px 2px rgba(60, 64, 67, 0.3), 0px 1px 3px 1px rgba(60, 64, 67, 0.15);\n",
              "      fill: #174EA6;\n",
              "    }\n",
              "\n",
              "    .colab-df-buttons div {\n",
              "      margin-bottom: 4px;\n",
              "    }\n",
              "\n",
              "    [theme=dark] .colab-df-convert {\n",
              "      background-color: #3B4455;\n",
              "      fill: #D2E3FC;\n",
              "    }\n",
              "\n",
              "    [theme=dark] .colab-df-convert:hover {\n",
              "      background-color: #434B5C;\n",
              "      box-shadow: 0px 1px 3px 1px rgba(0, 0, 0, 0.15);\n",
              "      filter: drop-shadow(0px 1px 2px rgba(0, 0, 0, 0.3));\n",
              "      fill: #FFFFFF;\n",
              "    }\n",
              "  </style>\n",
              "\n",
              "    <script>\n",
              "      const buttonEl =\n",
              "        document.querySelector('#df-379f86bb-daff-408d-9fa7-2c6283c8616e button.colab-df-convert');\n",
              "      buttonEl.style.display =\n",
              "        google.colab.kernel.accessAllowed ? 'block' : 'none';\n",
              "\n",
              "      async function convertToInteractive(key) {\n",
              "        const element = document.querySelector('#df-379f86bb-daff-408d-9fa7-2c6283c8616e');\n",
              "        const dataTable =\n",
              "          await google.colab.kernel.invokeFunction('convertToInteractive',\n",
              "                                                    [key], {});\n",
              "        if (!dataTable) return;\n",
              "\n",
              "        const docLinkHtml = 'Like what you see? Visit the ' +\n",
              "          '<a target=\"_blank\" href=https://colab.research.google.com/notebooks/data_table.ipynb>data table notebook</a>'\n",
              "          + ' to learn more about interactive tables.';\n",
              "        element.innerHTML = '';\n",
              "        dataTable['output_type'] = 'display_data';\n",
              "        await google.colab.output.renderOutput(dataTable, element);\n",
              "        const docLink = document.createElement('div');\n",
              "        docLink.innerHTML = docLinkHtml;\n",
              "        element.appendChild(docLink);\n",
              "      }\n",
              "    </script>\n",
              "  </div>\n",
              "\n",
              "\n",
              "<div id=\"df-ac06e48f-3436-44d7-8ade-c7ccb0dbfa19\">\n",
              "  <button class=\"colab-df-quickchart\" onclick=\"quickchart('df-ac06e48f-3436-44d7-8ade-c7ccb0dbfa19')\"\n",
              "            title=\"Suggest charts\"\n",
              "            style=\"display:none;\">\n",
              "\n",
              "<svg xmlns=\"http://www.w3.org/2000/svg\" height=\"24px\"viewBox=\"0 0 24 24\"\n",
              "     width=\"24px\">\n",
              "    <g>\n",
              "        <path d=\"M19 3H5c-1.1 0-2 .9-2 2v14c0 1.1.9 2 2 2h14c1.1 0 2-.9 2-2V5c0-1.1-.9-2-2-2zM9 17H7v-7h2v7zm4 0h-2V7h2v10zm4 0h-2v-4h2v4z\"/>\n",
              "    </g>\n",
              "</svg>\n",
              "  </button>\n",
              "\n",
              "<style>\n",
              "  .colab-df-quickchart {\n",
              "      --bg-color: #E8F0FE;\n",
              "      --fill-color: #1967D2;\n",
              "      --hover-bg-color: #E2EBFA;\n",
              "      --hover-fill-color: #174EA6;\n",
              "      --disabled-fill-color: #AAA;\n",
              "      --disabled-bg-color: #DDD;\n",
              "  }\n",
              "\n",
              "  [theme=dark] .colab-df-quickchart {\n",
              "      --bg-color: #3B4455;\n",
              "      --fill-color: #D2E3FC;\n",
              "      --hover-bg-color: #434B5C;\n",
              "      --hover-fill-color: #FFFFFF;\n",
              "      --disabled-bg-color: #3B4455;\n",
              "      --disabled-fill-color: #666;\n",
              "  }\n",
              "\n",
              "  .colab-df-quickchart {\n",
              "    background-color: var(--bg-color);\n",
              "    border: none;\n",
              "    border-radius: 50%;\n",
              "    cursor: pointer;\n",
              "    display: none;\n",
              "    fill: var(--fill-color);\n",
              "    height: 32px;\n",
              "    padding: 0;\n",
              "    width: 32px;\n",
              "  }\n",
              "\n",
              "  .colab-df-quickchart:hover {\n",
              "    background-color: var(--hover-bg-color);\n",
              "    box-shadow: 0 1px 2px rgba(60, 64, 67, 0.3), 0 1px 3px 1px rgba(60, 64, 67, 0.15);\n",
              "    fill: var(--button-hover-fill-color);\n",
              "  }\n",
              "\n",
              "  .colab-df-quickchart-complete:disabled,\n",
              "  .colab-df-quickchart-complete:disabled:hover {\n",
              "    background-color: var(--disabled-bg-color);\n",
              "    fill: var(--disabled-fill-color);\n",
              "    box-shadow: none;\n",
              "  }\n",
              "\n",
              "  .colab-df-spinner {\n",
              "    border: 2px solid var(--fill-color);\n",
              "    border-color: transparent;\n",
              "    border-bottom-color: var(--fill-color);\n",
              "    animation:\n",
              "      spin 1s steps(1) infinite;\n",
              "  }\n",
              "\n",
              "  @keyframes spin {\n",
              "    0% {\n",
              "      border-color: transparent;\n",
              "      border-bottom-color: var(--fill-color);\n",
              "      border-left-color: var(--fill-color);\n",
              "    }\n",
              "    20% {\n",
              "      border-color: transparent;\n",
              "      border-left-color: var(--fill-color);\n",
              "      border-top-color: var(--fill-color);\n",
              "    }\n",
              "    30% {\n",
              "      border-color: transparent;\n",
              "      border-left-color: var(--fill-color);\n",
              "      border-top-color: var(--fill-color);\n",
              "      border-right-color: var(--fill-color);\n",
              "    }\n",
              "    40% {\n",
              "      border-color: transparent;\n",
              "      border-right-color: var(--fill-color);\n",
              "      border-top-color: var(--fill-color);\n",
              "    }\n",
              "    60% {\n",
              "      border-color: transparent;\n",
              "      border-right-color: var(--fill-color);\n",
              "    }\n",
              "    80% {\n",
              "      border-color: transparent;\n",
              "      border-right-color: var(--fill-color);\n",
              "      border-bottom-color: var(--fill-color);\n",
              "    }\n",
              "    90% {\n",
              "      border-color: transparent;\n",
              "      border-bottom-color: var(--fill-color);\n",
              "    }\n",
              "  }\n",
              "</style>\n",
              "\n",
              "  <script>\n",
              "    async function quickchart(key) {\n",
              "      const quickchartButtonEl =\n",
              "        document.querySelector('#' + key + ' button');\n",
              "      quickchartButtonEl.disabled = true;  // To prevent multiple clicks.\n",
              "      quickchartButtonEl.classList.add('colab-df-spinner');\n",
              "      try {\n",
              "        const charts = await google.colab.kernel.invokeFunction(\n",
              "            'suggestCharts', [key], {});\n",
              "      } catch (error) {\n",
              "        console.error('Error during call to suggestCharts:', error);\n",
              "      }\n",
              "      quickchartButtonEl.classList.remove('colab-df-spinner');\n",
              "      quickchartButtonEl.classList.add('colab-df-quickchart-complete');\n",
              "    }\n",
              "    (() => {\n",
              "      let quickchartButtonEl =\n",
              "        document.querySelector('#df-ac06e48f-3436-44d7-8ade-c7ccb0dbfa19 button');\n",
              "      quickchartButtonEl.style.display =\n",
              "        google.colab.kernel.accessAllowed ? 'block' : 'none';\n",
              "    })();\n",
              "  </script>\n",
              "</div>\n",
              "\n",
              "  <div id=\"id_d6233762-1f92-43d2-b041-ee2a0bbf1892\">\n",
              "    <style>\n",
              "      .colab-df-generate {\n",
              "        background-color: #E8F0FE;\n",
              "        border: none;\n",
              "        border-radius: 50%;\n",
              "        cursor: pointer;\n",
              "        display: none;\n",
              "        fill: #1967D2;\n",
              "        height: 32px;\n",
              "        padding: 0 0 0 0;\n",
              "        width: 32px;\n",
              "      }\n",
              "\n",
              "      .colab-df-generate:hover {\n",
              "        background-color: #E2EBFA;\n",
              "        box-shadow: 0px 1px 2px rgba(60, 64, 67, 0.3), 0px 1px 3px 1px rgba(60, 64, 67, 0.15);\n",
              "        fill: #174EA6;\n",
              "      }\n",
              "\n",
              "      [theme=dark] .colab-df-generate {\n",
              "        background-color: #3B4455;\n",
              "        fill: #D2E3FC;\n",
              "      }\n",
              "\n",
              "      [theme=dark] .colab-df-generate:hover {\n",
              "        background-color: #434B5C;\n",
              "        box-shadow: 0px 1px 3px 1px rgba(0, 0, 0, 0.15);\n",
              "        filter: drop-shadow(0px 1px 2px rgba(0, 0, 0, 0.3));\n",
              "        fill: #FFFFFF;\n",
              "      }\n",
              "    </style>\n",
              "    <button class=\"colab-df-generate\" onclick=\"generateWithVariable('cov_matrix')\"\n",
              "            title=\"Generate code using this dataframe.\"\n",
              "            style=\"display:none;\">\n",
              "\n",
              "  <svg xmlns=\"http://www.w3.org/2000/svg\" height=\"24px\"viewBox=\"0 0 24 24\"\n",
              "       width=\"24px\">\n",
              "    <path d=\"M7,19H8.4L18.45,9,17,7.55,7,17.6ZM5,21V16.75L18.45,3.32a2,2,0,0,1,2.83,0l1.4,1.43a1.91,1.91,0,0,1,.58,1.4,1.91,1.91,0,0,1-.58,1.4L9.25,21ZM18.45,9,17,7.55Zm-12,3A5.31,5.31,0,0,0,4.9,8.1,5.31,5.31,0,0,0,1,6.5,5.31,5.31,0,0,0,4.9,4.9,5.31,5.31,0,0,0,6.5,1,5.31,5.31,0,0,0,8.1,4.9,5.31,5.31,0,0,0,12,6.5,5.46,5.46,0,0,0,6.5,12Z\"/>\n",
              "  </svg>\n",
              "    </button>\n",
              "    <script>\n",
              "      (() => {\n",
              "      const buttonEl =\n",
              "        document.querySelector('#id_d6233762-1f92-43d2-b041-ee2a0bbf1892 button.colab-df-generate');\n",
              "      buttonEl.style.display =\n",
              "        google.colab.kernel.accessAllowed ? 'block' : 'none';\n",
              "\n",
              "      buttonEl.onclick = () => {\n",
              "        google.colab.notebook.generateWithVariable('cov_matrix');\n",
              "      }\n",
              "      })();\n",
              "    </script>\n",
              "  </div>\n",
              "\n",
              "    </div>\n",
              "  </div>\n"
            ],
            "application/vnd.google.colaboratory.intrinsic+json": {
              "type": "dataframe",
              "variable_name": "cov_matrix",
              "summary": "{\n  \"name\": \"cov_matrix\",\n  \"rows\": 5,\n  \"fields\": [\n    {\n      \"column\": \"HDFCBANK.NS\",\n      \"properties\": {\n        \"dtype\": \"number\",\n        \"std\": 0.009662531620843818,\n        \"min\": 0.04941559847384774,\n        \"max\": 0.07478636748681146,\n        \"num_unique_values\": 5,\n        \"samples\": [\n          0.04941559847384774,\n          0.05534195709906888,\n          0.05456510602254487\n        ],\n        \"semantic_type\": \"\",\n        \"description\": \"\"\n      }\n    },\n    {\n      \"column\": \"SBIN.NS\",\n      \"properties\": {\n        \"dtype\": \"number\",\n        \"std\": 0.02438012385803196,\n        \"min\": 0.04941559847384774,\n        \"max\": 0.11718442965791474,\n        \"num_unique_values\": 5,\n        \"samples\": [\n          0.11718442965791474,\n          0.0821274134616386,\n          0.08836779688891096\n        ],\n        \"semantic_type\": \"\",\n        \"description\": \"\"\n      }\n    },\n    {\n      \"column\": \"FEDERALBNK.NS\",\n      \"properties\": {\n        \"dtype\": \"number\",\n        \"std\": 0.035411169845227554,\n        \"min\": 0.05456510602254487,\n        \"max\": 0.15124954075708436,\n        \"num_unique_values\": 5,\n        \"samples\": [\n          0.08836779688891096,\n          0.09559045526973886,\n          0.15124954075708436\n        ],\n        \"semantic_type\": \"\",\n        \"description\": \"\"\n      }\n    },\n    {\n      \"column\": \"ICICIBANK.NS\",\n      \"properties\": {\n        \"dtype\": \"number\",\n        \"std\": 0.018466747064601267,\n        \"min\": 0.05798839440691354,\n        \"max\": 0.10766261329074638,\n        \"num_unique_values\": 5,\n        \"samples\": [\n          0.07575983482061283,\n          0.09173741764970698,\n          0.08177658239481513\n        ],\n        \"semantic_type\": \"\",\n        \"description\": \"\"\n      }\n    },\n    {\n      \"column\": \"AXISBANK.NS\",\n      \"properties\": {\n        \"dtype\": \"number\",\n        \"std\": 0.031015878220010087,\n        \"min\": 0.05534195709906888,\n        \"max\": 0.14099393810509653,\n        \"num_unique_values\": 5,\n        \"samples\": [\n          0.0821274134616386,\n          0.14099393810509653,\n          0.09559045526973886\n        ],\n        \"semantic_type\": \"\",\n        \"description\": \"\"\n      }\n    }\n  ]\n}"
            }
          },
          "metadata": {},
          "execution_count": 102
        }
      ]
    },
    {
      "cell_type": "markdown",
      "source": [
        "#5. Define Portfolio Performance Metrics"
      ],
      "metadata": {
        "id": "0sxJ8VtFP5vU"
      }
    },
    {
      "cell_type": "markdown",
      "source": [
        "Calculate the portfolio standard deviation\n",
        "\n",
        "(This calculates the portfolio variance, which is a measure of the risk associated with a portfolio of assets. It represents the combined volatility of the assets in the portfolio.)"
      ],
      "metadata": {
        "id": "tazafcZvQA68"
      }
    },
    {
      "cell_type": "code",
      "source": [
        "def standard_deviation (weights, cov_matrix):\n",
        "  variance = weights.T @ cov_matrix @ weights\n",
        "  return np.sqrt(variance)"
      ],
      "metadata": {
        "id": "DA_WGSCpQ2Cl"
      },
      "execution_count": 103,
      "outputs": []
    },
    {
      "cell_type": "markdown",
      "source": [
        "Calculate the expected return\n",
        "\n",
        "(Key Assumption: Expected returns are based on historical returns)"
      ],
      "metadata": {
        "id": "awff63C0Q1q5"
      }
    },
    {
      "cell_type": "code",
      "source": [
        "def expected_return (weights, log_returns):\n",
        "  return (np.sum(log_returns.mean() * weights) * 252)"
      ],
      "metadata": {
        "id": "cdgOX9dtQ4h9"
      },
      "execution_count": 104,
      "outputs": []
    },
    {
      "cell_type": "markdown",
      "source": [
        "Calculate the Share Ratio"
      ],
      "metadata": {
        "id": "eByffbBNQ5A8"
      }
    },
    {
      "cell_type": "code",
      "source": [
        "def sharpe_ratio (weights, log_returns, cov_matrix, risk_free_rate):\n",
        "  return(expected_return (weights, log_returns) - risk_free_rate)/standard_deviation (weights, cov_matrix)"
      ],
      "metadata": {
        "id": "ACoUj5SiRl8R"
      },
      "execution_count": 105,
      "outputs": []
    },
    {
      "cell_type": "markdown",
      "source": [
        "#6. Portfolio Optimization"
      ],
      "metadata": {
        "id": "09u5qIchRmYp"
      }
    },
    {
      "cell_type": "markdown",
      "source": [
        "Set the risk-free rate\n",
        "\n",
        "(We can also use FRED api)"
      ],
      "metadata": {
        "id": "V8p5ghe6RpN3"
      }
    },
    {
      "cell_type": "code",
      "source": [
        "risk_free_rate = 0.02"
      ],
      "metadata": {
        "id": "ReAanjxURrFY"
      },
      "execution_count": 106,
      "outputs": []
    },
    {
      "cell_type": "markdown",
      "source": [
        "Define the function to minimize (negative Sharpe Ratio)\n",
        "\n",
        "In the case of the scipy.optimize() function, there is no direct method to find the maximum value of a function"
      ],
      "metadata": {
        "id": "2PmjdKFeTGaA"
      }
    },
    {
      "cell_type": "code",
      "source": [
        "def neg_sharpe_ratio(weights, log_returns, cov_matrix, risk_free_rate):\n",
        "  return -sharpe_ratio(weights, log_returns, cov_matrix, risk_free_rate)"
      ],
      "metadata": {
        "id": "P94U3UCDT0IF"
      },
      "execution_count": 107,
      "outputs": []
    },
    {
      "cell_type": "markdown",
      "source": [
        "Set the constraints and bounds\n",
        "\n",
        "Constraints are conditions that must be met by the solution during the optimization process. In this case, the constraints is that the sum of all portfolio weights must be equal to 1. The constraints variable is a dictionary with two keys: 'type and 'fun'. 'type' is set to 'eq' which means \"equality constraint\" and 'fun' is assigned the function check_sum, which checks if the sum of the portfolio weights equals 1.\n",
        "\n",
        "Bounds are the limits placed on the variables during the optimization process. In this case, the variables are the portfolio weights, and each weight should be between 0 and 1.\n",
        "\n",
        "We cannot do short-sell here, we can only go long."
      ],
      "metadata": {
        "id": "SLoS24qsUCs7"
      }
    },
    {
      "cell_type": "code",
      "source": [
        "constraints = {'type':'eq','fun': lambda weights: np.sum(weights) - 1}\n",
        "#bounds = [(0, 0.5) for _ in range(len(tickers))]\n",
        "bounds = [(0.1, 0.5) for _ in range(len(tickers))]"
      ],
      "metadata": {
        "id": "oewHulTfUTx2"
      },
      "execution_count": 108,
      "outputs": []
    },
    {
      "cell_type": "markdown",
      "source": [
        "Set the initial weights"
      ],
      "metadata": {
        "id": "z-H9PccxXNKw"
      }
    },
    {
      "cell_type": "code",
      "source": [
        "initial_weights = np.array([1/len(tickers)]*len(tickers))\n",
        "print(initial_weights)"
      ],
      "metadata": {
        "colab": {
          "base_uri": "https://localhost:8080/"
        },
        "id": "EqionPpxXO69",
        "outputId": "137701fe-91a0-4c9d-8c89-03d876b1263b"
      },
      "execution_count": 109,
      "outputs": [
        {
          "output_type": "stream",
          "name": "stdout",
          "text": [
            "[0.2 0.2 0.2 0.2 0.2]\n"
          ]
        }
      ]
    },
    {
      "cell_type": "markdown",
      "source": [
        "Optimize the weights to maximize Sharpe Ratio\n",
        "\n",
        "'SLSQP' stands for Sequential Least Squares Quadratic Programming, which is a numerical optimization technique suitable for solving non-linear optimization"
      ],
      "metadata": {
        "id": "EUu9A8o4XPZ9"
      }
    },
    {
      "cell_type": "code",
      "source": [
        "optimized_results = minimize(neg_sharpe_ratio, initial_weights, args=(log_returns, cov_matrix, risk_free_rate), method='SLSQP', constraints=constraints, bounds=bounds)\n",
        "optimized_results"
      ],
      "metadata": {
        "colab": {
          "base_uri": "https://localhost:8080/"
        },
        "id": "duDqSXSTXjgh",
        "outputId": "3ff3b1cf-d52a-46af-8bb5-946263fa099a"
      },
      "execution_count": 110,
      "outputs": [
        {
          "output_type": "execute_result",
          "data": {
            "text/plain": [
              " message: Optimization terminated successfully\n",
              " success: True\n",
              "  status: 0\n",
              "     fun: -0.5367324750332564\n",
              "       x: [ 1.000e-01  2.743e-01  1.000e-01  4.257e-01  1.000e-01]\n",
              "     nit: 4\n",
              "     jac: [ 1.390e-01 -1.792e-01  1.656e-01 -1.792e-01  2.660e-01]\n",
              "    nfev: 24\n",
              "    njev: 4"
            ]
          },
          "metadata": {},
          "execution_count": 110
        }
      ]
    },
    {
      "cell_type": "markdown",
      "source": [
        "Get the optimal weights"
      ],
      "metadata": {
        "id": "F8S06kNnXPMJ"
      }
    },
    {
      "cell_type": "code",
      "source": [
        "optimal_weights = optimized_results.x"
      ],
      "metadata": {
        "id": "wN4XGH4kaHmR"
      },
      "execution_count": 111,
      "outputs": []
    },
    {
      "cell_type": "markdown",
      "source": [
        "#7. Analyze the Optimal Portfolio"
      ],
      "metadata": {
        "id": "fmxzrq-saIIm"
      }
    },
    {
      "cell_type": "markdown",
      "source": [
        "Display analytics of the optimal portfolio"
      ],
      "metadata": {
        "id": "5BIxzDPdaM0D"
      }
    },
    {
      "cell_type": "code",
      "source": [
        "print(\"Optimal Weights:\")\n",
        "for ticker, weight in zip(tickers, optimal_weights):\n",
        "  print(f\"{ticker}:{weight}\")\n",
        "\n",
        "print()\n",
        "\n",
        "optimal_portfolio_return = expected_return(optimal_weights, log_returns)\n",
        "optimal_portfolio_volatility = standard_deviation(optimal_weights, cov_matrix)\n",
        "optimal_sharpe_ratio = sharpe_ratio(optimal_weights, log_returns, cov_matrix, risk_free_rate)\n",
        "\n",
        "print(f\"Expected Annual Return: {optimal_portfolio_return}\")\n",
        "print(f\"Expected Volatility: {optimal_portfolio_volatility}\")\n",
        "print(f\"Sharpe Ratio: {optimal_sharpe_ratio}\")\n"
      ],
      "metadata": {
        "colab": {
          "base_uri": "https://localhost:8080/"
        },
        "id": "W1j7eqUmaPqY",
        "outputId": "6fb03c25-fbf8-4e56-b754-1d73c0d16baa"
      },
      "execution_count": 112,
      "outputs": [
        {
          "output_type": "stream",
          "name": "stdout",
          "text": [
            "Optimal Weights:\n",
            "HDFCBANK.NS:0.10000000000000032\n",
            "SBIN.NS:0.2743217922777652\n",
            "FEDERALBNK.NS:0.1\n",
            "ICICIBANK.NS:0.42567820772223436\n",
            "AXISBANK.NS:0.10000000000000038\n",
            "\n",
            "Expected Annual Return: 0.17701152942544446\n",
            "Expected Volatility: 0.2925321957008767\n",
            "Sharpe Ratio: 0.5367324750332564\n"
          ]
        }
      ]
    },
    {
      "cell_type": "markdown",
      "source": [
        "Display the final portfolio in a plot"
      ],
      "metadata": {
        "id": "OXgf9xlgcJHl"
      }
    },
    {
      "cell_type": "code",
      "source": [
        "import matplotlib.pyplot as plt\n",
        "\n",
        "#Create a abar chart of the optimal weights\n",
        "plt.figure(figsize = (10,6))\n",
        "plt.bar(tickers, optimal_weights)\n",
        "\n",
        "#Add labels and a title\n",
        "plt.xlabel('Assets')\n",
        "plt.ylabel('Optimal Weights')\n",
        "plt.title('Optimal Portfolio Weights')\n",
        "\n",
        "#Display the chart\n",
        "plt.show()"
      ],
      "metadata": {
        "colab": {
          "base_uri": "https://localhost:8080/",
          "height": 474
        },
        "id": "La4fTsbjcNh3",
        "outputId": "6ff8ab73-29af-4ac3-a27b-e8d62560d2e7"
      },
      "execution_count": 114,
      "outputs": [
        {
          "output_type": "display_data",
          "data": {
            "text/plain": [
              "<Figure size 1000x600 with 1 Axes>"
            ],
            "image/png": "[encoded data removed]"
          },
          "metadata": {}
        }
      ]
    }
  ]
}